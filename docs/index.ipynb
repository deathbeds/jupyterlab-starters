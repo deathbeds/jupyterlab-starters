{
 "cells": [
  {
   "cell_type": "markdown",
   "metadata": {},
   "source": [
    "# Jupyter[Lab] Starters\n"
   ]
  },
  {
   "cell_type": "markdown",
   "metadata": {
    "nbsphinx-toctree": {
     "maxdepth": 2
    }
   },
   "source": [
    "- [For Starters](./notebooks/Starters.ipynb)\n",
    "- [For Users](./notebooks/Users.ipynb)\n",
    "- [For Developers](./notebooks/Developers.ipynb)\n",
    "- [For Posterity](./notebooks/History.ipynb)"
   ]
  },
  {
   "cell_type": "code",
   "execution_count": null,
   "metadata": {
    "hide_input": true
   },
   "outputs": [],
   "source": [
    "import IPython, pathlib\n",
    "HERE = pathlib.Path.cwd()\n",
    "IPython.display.Markdown(\n",
    "    \"\\n\".join((HERE / \"..\" / \"README.md\").read_text().splitlines()[3:])\n",
    ")"
   ]
  }
 ],
 "metadata": {
  "kernelspec": {
   "display_name": "Python 3",
   "language": "python",
   "name": "python3"
  },
  "language_info": {
   "codemirror_mode": {
    "name": "ipython",
    "version": 3
   },
   "file_extension": ".py",
   "mimetype": "text/x-python",
   "name": "python",
   "nbconvert_exporter": "python",
   "pygments_lexer": "ipython3",
   "version": "3.7.6"
  }
 },
 "nbformat": 4,
 "nbformat_minor": 4
}
