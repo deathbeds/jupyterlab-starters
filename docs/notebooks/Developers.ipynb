{
 "cells": [
  {
   "cell_type": "markdown",
   "metadata": {},
   "source": [
    "## For Developers\n",
    "\n",
    "> and other adventurous scientists"
   ]
  },
  {
   "cell_type": "markdown",
   "metadata": {
    "nbsphinx-toctree": {
     "maxdepth": 4
    }
   },
   "source": [
    "- [Use Cases](./Use%20Cases.ipynb)\n",
    "- [Packaging Starters](./Packaging.ipynb)\n",
    "- [Python API](../api)\n",
    "- [REST API](./REST%20API.ipynb)\n",
    "- JSON Schema\n",
    "  - [JSON Schema](../schema/v2.md)\n",
    "  - [All JSON Schema](../schema/index.rst)"
   ]
  }
 ],
 "metadata": {
  "kernelspec": {
   "display_name": "Python 3",
   "language": "python",
   "name": "python3"
  },
  "language_info": {
   "codemirror_mode": {
    "name": "ipython",
    "version": 3
   },
   "file_extension": ".py",
   "mimetype": "text/x-python",
   "name": "python",
   "nbconvert_exporter": "python",
   "pygments_lexer": "ipython3",
   "version": "3.7.6"
  }
 },
 "nbformat": 4,
 "nbformat_minor": 4
}
