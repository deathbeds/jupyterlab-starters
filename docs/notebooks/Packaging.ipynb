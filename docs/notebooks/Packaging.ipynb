{
 "cells": [
  {
   "cell_type": "markdown",
   "metadata": {},
   "source": [
    "## Packaging Starters\n",
    "Starters are configured through the [traitlets](https://github.com/ipython/traitlets) system. As of `notebook 5.3`, these configurations can be [packaged as simple files](https://jupyter-notebook.readthedocs.io/en/stable/examples/Notebook/Distributing%20Jupyter%20Extensions%20as%20Python%20Packages.html#Automatically-enabling-a-server-extension-and-nbextension). Here's a quick example, assuming the following file structure:\n",
    "\n",
    "```yaml\n",
    "my-project:\n",
    "  - setup.py\n",
    "  - MANIFEST.in\n",
    "  # other good stuff like LICENSE, README.md, CHANGELOG.md, CODE_OF_CONDUCT.md\n",
    "  - src:\n",
    "    - my_project:\n",
    "      - __init__.py\n",
    "      - foo.py\n",
    "      - my-starter-folder:\n",
    "        - my-starter-file.json\n",
    "      - etc:\n",
    "        - my-project-starter.json\n",
    "```"
   ]
  },
  {
   "cell_type": "markdown",
   "metadata": {},
   "source": [
    "### `MANIFEST.in`\n"
   ]
  },
  {
   "cell_type": "markdown",
   "metadata": {},
   "source": [
    "```ini\n",
    "# the usual suspects\n",
    "include LICENSE README.md CHANGELOG.md CODE_OF_CONDUCT.md\n",
    "# ensure the starter is included in the source distribution\n",
    "recursive-include src *.json\n",
    "```"
   ]
  },
  {
   "cell_type": "markdown",
   "metadata": {},
   "source": [
    "### `setup.py`\n",
    "\n",
    "```python\n",
    "import setuptools\n",
    "\n",
    "setuptools.setup(\n",
    "    ...\n",
    "    include_package_data=True,\n",
    "    data_files=[\n",
    "        (\n",
    "            \"etc/jupyter/jupyter_notebook_config.d\",\n",
    "            [\"src/my_project/etc/my-project-starter.json\"],\n",
    "        )\n",
    "    ]\n",
    "    zip_safe=False\n",
    ")\n",
    "```"
   ]
  },
  {
   "cell_type": "markdown",
   "metadata": {},
   "source": [
    "### `my-project-starter.json`\n",
    "\n",
    "```json\n",
    "{\n",
    "  \"StarterManager\": {\n",
    "    \"extra_starters\": {\n",
    "      \"my-project-starter\": {\n",
    "        \"label\": \"My Starter\",\n",
    "        \"description\": \"copies a JSON file to your working directory\",\n",
    "        \"type\": \"copy\",\n",
    "        \"py_src\": \"my_project\",\n",
    "        \"src\": \"my-starter-folder/my-starter-file.json\"\n",
    "      }\n",
    "    }\n",
    "  }\n",
    "}\n",
    "```\n",
    "\n",
    "\n",
    ">  Note that all paths should be `/`-delimited, even on Windows.\n",
    "\n",
    "`src` can be absolute or relative to the `cwd` of the running `notebook` server... \n",
    "\n",
    "> _This is not very useful when packaging, as these values cannot be known in advance!_\n",
    "\n",
    "Starter `copy` and `notebook` types, in addition to `src`, can use a `py_src` of any importable module as a portable \"anchor\" without \n",
    "\n",
    "- having to know the details of the installed location \n",
    "- or executing/importing any arbitrary code until the user requests it\n",
    "\n",
    "However, because of how dynamic the python import system is (see [importnb](https://github.com/deathbeds/importnb)), giving a dotted module, e.g. `my_module.foo` does cause the top-level module to be imported."
   ]
  }
 ],
 "metadata": {
  "kernelspec": {
   "display_name": "Python 3",
   "language": "python",
   "name": "python3"
  },
  "language_info": {
   "codemirror_mode": {
    "name": "ipython",
    "version": 3
   },
   "file_extension": ".py",
   "mimetype": "text/x-python",
   "name": "python",
   "nbconvert_exporter": "python",
   "pygments_lexer": "ipython3",
   "version": "3.7.6"
  }
 },
 "nbformat": 4,
 "nbformat_minor": 4
}
