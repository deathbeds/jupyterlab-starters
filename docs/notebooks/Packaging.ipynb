{
 "cells": [
  {
   "cell_type": "markdown",
   "metadata": {},
   "source": [
    "## Packaging Starters\n",
    "Starters are configured through the [traitlets](https://github.com/ipython/traitlets) system. As of `notebook 5.3`, these configurations can be [packaged as simple files](https://jupyter-notebook.readthedocs.io/en/stable/examples/Notebook/Distributing%20Jupyter%20Extensions%20as%20Python%20Packages.html#Automatically-enabling-a-server-extension-and-nbextension). Here's a quick example, assuming the following file structure:\n",
    "\n",
    "```yaml\n",
    "my-project:\n",
    "  - setup.py\n",
    "  - MANIFEST.in\n",
    "  # other good stuff like LICENSE, README.md, CHANGELOG.md, CODE_OF_CONDUCT.md\n",
    "  - src:\n",
    "    - my_project:\n",
    "      - __init__.py\n",
    "      - etc:\n",
    "        - my-project-starter.json\n",
    "```"
   ]
  },
  {
   "cell_type": "markdown",
   "metadata": {},
   "source": [
    "### `MANIFEST.in`\n"
   ]
  },
  {
   "cell_type": "markdown",
   "metadata": {},
   "source": [
    "```ini\n",
    "# the usual suspects\n",
    "include LICENSE README.md CHANGELOG.md CODE_OF_CONDUCT.md\n",
    "# ensure the starter is included in the source distribution\n",
    "recursive-include src *.json\n",
    "```"
   ]
  },
  {
   "cell_type": "markdown",
   "metadata": {},
   "source": [
    "### `setup.py`\n",
    "\n",
    "```python\n",
    "import setuptools\n",
    "\n",
    "setuptools.setup(\n",
    "    ...\n",
    "    include_package_data=True,\n",
    "    data_files=[\n",
    "        (\n",
    "            \"etc/jupyter/jupyter_notebook_config.d\",\n",
    "            [\"src/my_project/etc/my-project-starter.json\"],\n",
    "        )\n",
    "    ]\n",
    "    zip_safe=False\n",
    ")\n",
    "```"
   ]
  }
 ],
 "metadata": {
  "kernelspec": {
   "display_name": "Python 3",
   "language": "python",
   "name": "python3"
  },
  "language_info": {
   "codemirror_mode": {
    "name": "ipython",
    "version": 3
   },
   "file_extension": ".py",
   "mimetype": "text/x-python",
   "name": "python",
   "nbconvert_exporter": "python",
   "pygments_lexer": "ipython3",
   "version": "3.7.6"
  }
 },
 "nbformat": 4,
 "nbformat_minor": 4
}
