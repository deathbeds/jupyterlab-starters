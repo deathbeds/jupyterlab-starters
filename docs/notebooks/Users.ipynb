{
 "cells": [
  {
   "cell_type": "markdown",
   "metadata": {},
   "source": [
    "## For Users"
   ]
  },
  {
   "cell_type": "markdown",
   "metadata": {},
   "source": [
    "### Installing\n",
    "\n",
    "Get up and running fast with `pip`:\n",
    "\n",
    "```bash\n",
    "pip install jupyter-starters jupyterlab=3\n",
    "```\n",
    "\n",
    "or\n",
    "\n",
    "```bash\n",
    "mamba install -c conda-forge jupyter-starters jupyterlab-3\n",
    "```\n",
    "\n",
    "or\n",
    "\n",
    "```bash\n",
    "mamba install -c conda-forge jupyter-starters jupyterlab-3\n",
    "```\n"
   ]
  },
  {
   "cell_type": "markdown",
   "metadata": {},
   "source": [
    "### Using\n",
    "\n",
    "- When JupyterLab opens, and configured starters will appear in the _Launcher_."
   ]
  },
  {
   "cell_type": "markdown",
   "metadata": {},
   "source": [
    "### Extras\n",
    "\n",
    "#### Cookiecutter\n",
    "\n",
    "`jupyter_starters` integrates with (but doesn't require)\n",
    "[cookiecutter](https://cookiecutter.readthedocs.io). \n",
    "\n",
    "```bash\n",
    "pip install cookiecutter\n",
    "```\n",
    "\n",
    "or `conda`...\n",
    "\n",
    "```bash\n",
    "conda install -c conda-forge cookiecutter\n",
    "```"
   ]
  },
  {
   "cell_type": "markdown",
   "metadata": {},
   "source": [
    "## CLI\n",
    "\n",
    "You can list your available starters with the `jupyter starters list` CLI."
   ]
  },
  {
   "cell_type": "code",
   "execution_count": null,
   "metadata": {},
   "outputs": [],
   "source": [
    "!jupyter starters list --help"
   ]
  }
 ],
 "metadata": {
  "kernelspec": {
   "display_name": "Python 3 (ipykernel)",
   "language": "python",
   "name": "python3"
  },
  "language_info": {
   "codemirror_mode": {
    "name": "ipython",
    "version": 3
   },
   "file_extension": ".py",
   "mimetype": "text/x-python",
   "name": "python",
   "nbconvert_exporter": "python",
   "pygments_lexer": "ipython3",
   "version": "3.10.5"
  }
 },
 "nbformat": 4,
 "nbformat_minor": 4
}
