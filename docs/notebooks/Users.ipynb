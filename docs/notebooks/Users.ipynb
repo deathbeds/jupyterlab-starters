{
 "cells": [
  {
   "cell_type": "markdown",
   "metadata": {},
   "source": [
    "## For Users"
   ]
  },
  {
   "cell_type": "markdown",
   "metadata": {},
   "source": [
    "### Pre-requisites\n",
    "\n",
    "Before you begin, you'll need [JupyterLab 3](https://github.com/jupyterlab/jupyterlab).\n",
    "\n",
    "```bash\n",
    "pip install jupyterlab=3\n",
    "```\n",
    "\n",
    "`conda` or `mamba` is also highly recommended, once you have heavy custom dependencies:\n",
    "\n",
    "```bash\n",
    "conda install -c conda-forge jupyterlab=3\n",
    "```"
   ]
  },
  {
   "cell_type": "markdown",
   "metadata": {},
   "source": [
    "### Installing\n",
    "\n",
    "Get up and running fast with `pip`:\n",
    "\n",
    "```bash\n",
    "pip install --pre jupyter_starters\n",
    "```\n",
    "\n",
    "...or `conda`:\n",
    "\n",
    "> TBD"
   ]
  },
  {
   "cell_type": "markdown",
   "metadata": {},
   "source": [
    "### Extras\n",
    "\n",
    "#### Cookiecutter\n",
    "\n",
    "`jupyter_starters` integrates with (but doesn't require)\n",
    "[cookiecutter](https://cookiecutter.readthedocs.io). It also uses `importlib_resources`\n",
    "to populate the curated \"pantry\" of cookiecutters. Again, install it with `pip`...\n",
    "\n",
    "```bash\n",
    "pip install cookiecutter importlib_resources\n",
    "```\n",
    "\n",
    "or `conda`...\n",
    "\n",
    "```bash\n",
    "conda install -c conda-forge cookiecutter importlib_resources\n",
    "```"
   ]
  }
 ],
 "metadata": {
  "kernelspec": {
   "display_name": "Python 3",
   "language": "python",
   "name": "python3"
  },
  "language_info": {
   "codemirror_mode": {
    "name": "ipython",
    "version": 3
   },
   "file_extension": ".py",
   "mimetype": "text/x-python",
   "name": "python",
   "nbconvert_exporter": "python",
   "pygments_lexer": "ipython3",
   "version": "3.7.9"
  }
 },
 "nbformat": 4,
 "nbformat_minor": 4
}
