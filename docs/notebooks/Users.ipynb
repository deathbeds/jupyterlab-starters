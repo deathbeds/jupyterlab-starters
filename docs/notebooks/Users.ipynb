{
 "cells": [
  {
   "cell_type": "markdown",
   "metadata": {},
   "source": [
    "## For Users"
   ]
  },
  {
   "cell_type": "markdown",
   "metadata": {},
   "source": [
    "### Pre-requisites\n",
    "Before you begin, you'll need [JupyterLab](https://github.com/jupyterlab/jupyterlab) and [NodeJS](https://nodejs.org). `conda` is highly recommended to install both of them:\n",
    "\n",
    "```bash\n",
    "conda install -c conda-forge jupyterlab=1 nodejs\n",
    "```\n",
    "\n",
    "Or you can get `nodejs`... somehow... and JupyterLab via `pip`:\n",
    "\n",
    "```bash\n",
    "pip install jupyterlab=1\n",
    "```"
   ]
  },
  {
   "cell_type": "markdown",
   "metadata": {},
   "source": [
    "### Installing\n",
    "Get up and running fast with `pip`:\n",
    "\n",
    "```bash\n",
    "pip install --pre jupyter_starters\n",
    "jupyter labextension install @deathbeds/jupyterlab-starters\n",
    "```\n",
    "\n",
    "...or `conda`:\n",
    "\n",
    "> TBD"
   ]
  },
  {
   "cell_type": "markdown",
   "metadata": {},
   "source": [
    "### Extras\n",
    "#### Cookiecutter\n",
    "`jupyter_starters` integrates with (but doesn't require) [cookiecutter](https://cookiecutter.readthedocs.io). It also uses `importlib_resources` to populate the curated \"pantry\" of cookiecutters. Again, install it with `pip`...\n",
    "\n",
    "```bash\n",
    "pip install cookiecutter importlib_resources\n",
    "```\n",
    "\n",
    "or `conda`...\n",
    "\n",
    "```bash\n",
    "conda install -c conda-forge cookiecutter importlib_resources\n",
    "```"
   ]
  }
 ],
 "metadata": {
  "kernelspec": {
   "display_name": "Python 3",
   "language": "python",
   "name": "python3"
  },
  "language_info": {
   "codemirror_mode": {
    "name": "ipython",
    "version": 3
   },
   "file_extension": ".py",
   "mimetype": "text/x-python",
   "name": "python",
   "nbconvert_exporter": "python",
   "pygments_lexer": "ipython3",
   "version": "3.7.6"
  }
 },
 "nbformat": 4,
 "nbformat_minor": 4
}
