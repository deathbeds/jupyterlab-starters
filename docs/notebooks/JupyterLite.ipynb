{
 "cells": [
  {
   "cell_type": "markdown",
   "id": "672b0dc4-7a1f-4a0d-8925-fb83c80b4cc1",
   "metadata": {},
   "source": [
    "## JupyterLite\n",
    "\n",
    "[JupyterLite](https://github.com/jupyterlite/jupyterlite) is a special version of\n",
    "JupyterLab which provides many features of `jupyter_server` and `ipykernel` in the\n",
    "browser."
   ]
  },
  {
   "cell_type": "code",
   "execution_count": null,
   "id": "646c392f-f583-4d67-921d-6d5da1e2f07a",
   "metadata": {
    "tags": [
     "hide-input"
    ]
   },
   "outputs": [],
   "source": [
    "import json\n",
    "from pathlib import Path\n",
    "\n",
    "from IPython.display import Markdown\n",
    "\n",
    "import jupyter_starters\n",
    "\n",
    "lite_version = __import__(\"jupyterlite\").__version__\n",
    "\n",
    "lite_warning = f\"\"\"\n",
    "```{{warning}}\n",
    "JupyterLite is under active development, and the starters integration probably only works with `{ lite_version }`, or later.\n",
    "```\n",
    "\"\"\".strip()\n",
    "\n",
    "Markdown(lite_warning)"
   ]
  },
  {
   "cell_type": "markdown",
   "id": "3a73a883-205d-4e32-a9a9-92b9c59e8cb1",
   "metadata": {},
   "source": [
    "## Including Starters in a JupyterLite site"
   ]
  },
  {
   "cell_type": "markdown",
   "id": "f21264e5-c730-45eb-9185-ca27589a3491",
   "metadata": {},
   "source": [
    "### Get the Lab Extension\n",
    "\n",
    "By default, just having `jupyter-starters` installed in the same environment as\n",
    "JupyterLite will force it to be included.\n",
    "\n",
    "Alternately, a `jupyter_build_config.json` can be provided in the directory where\n",
    "`jupyter lite build` is executed."
   ]
  },
  {
   "cell_type": "code",
   "execution_count": null,
   "id": "bbaf59b7-499b-43b5-ae93-41fb47f70fbc",
   "metadata": {
    "tags": [
     "hide-input"
    ]
   },
   "outputs": [],
   "source": [
    "conf = {\n",
    "    \"LiteBuildConfig\": {\n",
    "        \"federated_labextensions\": [\n",
    "            f\"https://pypi.io/packages/source/j/jupyter-starters/jupyter_starters-{ jupyter_starters.__version__ }-py3-none-any.whl\"\n",
    "        ]\n",
    "    }\n",
    "}\n",
    "Markdown(\n",
    "    f\"\"\"\n",
    "#### `jupyter_lite_config.json`\n",
    "```json\n",
    "{json.dumps(conf, indent=2, sort_keys=True)}\n",
    "```\n",
    "\"\"\"\n",
    ")"
   ]
  },
  {
   "cell_type": "markdown",
   "id": "f9aa9601-bc4e-4e84-a8d3-2ee9cb2c87d1",
   "metadata": {},
   "source": [
    "### Define Starters in Settings\n",
    "\n",
    "Starters can be defined in `overrides.json`."
   ]
  },
  {
   "cell_type": "code",
   "execution_count": null,
   "id": "7531c528-61e8-423c-846a-447ac7873afc",
   "metadata": {
    "tags": [
     "hide-input"
    ]
   },
   "outputs": [],
   "source": [
    "overrides = {\n",
    "    k: v\n",
    "    for k, v in json.load(Path(\"../../.binder/overrides.json\").open()).items()\n",
    "    if k.startswith(\"@deathbeds/jupyterlab-starters\")\n",
    "}\n",
    "\n",
    "Markdown(\n",
    "    f\"\"\"\n",
    "#### `overrides.json`\n",
    "\n",
    "```json\n",
    "{json.dumps(overrides, indent=2, sort_keys=True)}\n",
    "```\n",
    "\"\"\"\n",
    ")"
   ]
  },
  {
   "cell_type": "markdown",
   "id": "2d65074a-7715-48c3-b59f-e8fdbf46340c",
   "metadata": {},
   "source": [
    "### Build the Site\n",
    "\n",
    "Use the [JupyterLite CLI][cli]:\n",
    "\n",
    "```bash\n",
    "jupyter lite build\n",
    "```\n",
    "\n",
    "[cli]: https://jupyterlite.readthedocs.io/en/latest/reference/cli.html#build"
   ]
  },
  {
   "cell_type": "markdown",
   "id": "ac0f7e82-3ef8-4ea2-b018-cac706a44c84",
   "metadata": {},
   "source": [
    "### Build a Link\n",
    "\n",
    "When publishing a link, a [Starter Tree URL](./Starters.ipynb#Starter-Tree-URL) can be\n",
    "used to launch a starter as soon as the UI loads.\n",
    "\n",
    "```http\n",
    "https://jupyterstarters.readthedocs.io/static/lab/index.html?starter=todo\n",
    "```"
   ]
  }
 ],
 "metadata": {
  "kernelspec": {
   "display_name": "Python 3 (ipykernel)",
   "language": "python",
   "name": "python3"
  },
  "language_info": {
   "codemirror_mode": {
    "name": "ipython",
    "version": 3
   },
   "file_extension": ".py",
   "mimetype": "text/x-python",
   "name": "python",
   "nbconvert_exporter": "python",
   "pygments_lexer": "ipython3",
   "version": "3.10.5"
  }
 },
 "nbformat": 4,
 "nbformat_minor": 5
}
