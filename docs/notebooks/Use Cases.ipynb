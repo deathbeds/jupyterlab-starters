{
 "cells": [
  {
   "cell_type": "markdown",
   "metadata": {},
   "source": [
    "## Use Cases"
   ]
  },
  {
   "cell_type": "markdown",
   "metadata": {},
   "source": [
    "### The Demo\n",
    "\n",
    "> I built a cool [Binder](https://mybinder.org) (and even included\n",
    "> `?urlpath=lab/tree/tutorial.ipynb` to open a notebook) to showcase my library, but\n",
    "> when visitors get to their Binder, they still have to _read a notebook_ and\n",
    "> `shift+enter` their way through my example to see the plot at the end.\n",
    "\n",
    "A starter can _increase engagement_ by:\n",
    "\n",
    "- creating personalized content\n",
    "- running\n",
    "  [JupyterLab commands](https://jupyterlab.readthedocs.io/en/stable/user/commands.html)\n",
    "  on the users behalf, including the mighty `Run All Cells`\n",
    "- launching a starter directly, with a\n",
    "  [Starter Tree URL](Starters.ipynb#Starter-Tree-URL)"
   ]
  },
  {
   "cell_type": "markdown",
   "metadata": {},
   "source": [
    "### The Chore\n",
    "\n",
    "> When my scientists start a new experiment they hope will become reproducible research,\n",
    "> they start a new folder that contains a notebook, a spreadsheet and a few other\n",
    "> artifacts. Sometimes they don't do it... quite right.\n",
    "\n",
    "A starter can _enhance reproducibility_ by:\n",
    "\n",
    "- automating boring chores\n",
    "- standardizing file names"
   ]
  }
 ],
 "metadata": {
  "kernelspec": {
   "display_name": "Python 3",
   "language": "python",
   "name": "python3"
  },
  "language_info": {
   "codemirror_mode": {
    "name": "ipython",
    "version": 3
   },
   "file_extension": ".py",
   "mimetype": "text/x-python",
   "name": "python",
   "nbconvert_exporter": "python",
   "pygments_lexer": "ipython3",
   "version": "3.7.9"
  }
 },
 "nbformat": 4,
 "nbformat_minor": 4
}
