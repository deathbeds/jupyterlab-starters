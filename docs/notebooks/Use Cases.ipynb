{
 "cells": [
  {
   "cell_type": "markdown",
   "metadata": {},
   "source": [
    "## Use Cases"
   ]
  },
  {
   "cell_type": "markdown",
   "metadata": {},
   "source": [
    "### The Demo\n",
    "> I built a cool [Binder](https://mybinder.org) (and even included `?urlpath=lab/tree/tutorial.ipynb` to open a notebook) to showcase my library, but when visitors get to their Binder, they still have to _read a notebook_ and `shift+enter` their way through my example to see the plot at the end.\n",
    "\n",
    "A starter can _increase engagement_ by:\n",
    "\n",
    "- creating personalized content\n",
    "- running [JupyterLab commands](https://jupyterlab.readthedocs.io/en/stable/user/commands.html) on the users behalf, including the mighty `Run All Cells`"
   ]
  },
  {
   "cell_type": "markdown",
   "metadata": {},
   "source": [
    "### The Chore\n",
    "> When my scientists start a new experiment they hope will become reproducible research, they start a new folder that contains a notebook, a spreadsheet and a few other artifacts. Sometimes they don't do it... quite right.\n",
    "\n",
    "A starter can _enhance reproducibility_ by:\n",
    "- automating boring chores\n",
    "- standardizing file names"
   ]
  }
 ],
 "metadata": {
  "kernelspec": {
   "display_name": "Python 3",
   "language": "python",
   "name": "python3"
  },
  "language_info": {
   "codemirror_mode": {
    "name": "ipython",
    "version": 3
   },
   "file_extension": ".py",
   "mimetype": "text/x-python",
   "name": "python",
   "nbconvert_exporter": "python",
   "pygments_lexer": "ipython3",
   "version": "3.7.6"
  }
 },
 "nbformat": 4,
 "nbformat_minor": 4
}
