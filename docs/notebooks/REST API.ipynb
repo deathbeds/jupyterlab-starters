{
 "cells": [
  {
   "cell_type": "markdown",
   "metadata": {},
   "source": [
    "##  REST API\n",
    "`jupyter_starters` adds two routes to the Notebook server, which are primarily consumed by the `@deathbeds/jupyterlab-starters` JupyterLab extension."
   ]
  },
  {
   "cell_type": "markdown",
   "metadata": {},
   "source": [
    "### Starter List\n",
    "\n",
    "```\n",
    "GET http://localhost:8888/starters\n",
    "```\n",
    "\n",
    "Returns a [named map of starters](../schema/v2.md#definitions-group-all-starters), as loaded via `traitlets`. For example, the demo starters:"
   ]
  },
  {
   "cell_type": "code",
   "execution_count": null,
   "metadata": {
    "hide_input": true
   },
   "outputs": [],
   "source": [
    "import IPython, pathlib, json\n",
    "from jupyter_starters.handlers import VERSION\n",
    "HERE = pathlib.Path.cwd()\n",
    "starters = json.loads((HERE.parent.parent / \"jupyter_notebook_config.json\").read_text())[\"StarterManager\"][\"extra_starters\"]\n",
    "IPython.display.Markdown(f\"\"\"```json\n",
    "{json.dumps({\n",
    "    \"version\": VERSION,\n",
    "    \"starters\": starters\n",
    "}, indent=2, sort_keys=True) }\n",
    "```\"\"\")"
   ]
  },
  {
   "cell_type": "markdown",
   "metadata": {},
   "source": [
    "### Starter\n",
    "\n",
    "```\n",
    "POST http://localhost:8888/starters/{:starter-name}/{:api-path}\n",
    "```\n",
    "\n",
    "Returns a [start response](../schema/v2.md#definitions-group-start-response), e.g.\n",
    "\n",
    "```json\n",
    "{\n",
    "  \"body\": null, \n",
    "  \"name\": \"whitepaper-single\", \n",
    "  \"path\": \"whitepaper-single.ipynb\", \n",
    "  \"starter\": {\n",
    "    \"type\": \"copy\", \n",
    "    \"label\": \"Whitepaper Notebook\", \n",
    "    \"description\": \"A reusable notebook for proposing research\", \n",
    "    \"src\": \"examples/whitepaper-single.ipynb\"\n",
    "  }, \n",
    "  \"status\": \"done\"\n",
    "}\n",
    "```"
   ]
  }
 ],
 "metadata": {
  "kernelspec": {
   "display_name": "Python 3",
   "language": "python",
   "name": "python3"
  },
  "language_info": {
   "codemirror_mode": {
    "name": "ipython",
    "version": 3
   },
   "file_extension": ".py",
   "mimetype": "text/x-python",
   "name": "python",
   "nbconvert_exporter": "python",
   "pygments_lexer": "ipython3",
   "version": "3.7.6"
  }
 },
 "nbformat": 4,
 "nbformat_minor": 4
}
