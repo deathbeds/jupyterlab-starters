{
 "cells": [
  {
   "cell_type": "markdown",
   "metadata": {},
   "source": [
    "## REST API\n",
    "\n",
    "`jupyter_starters` adds two routes to the Notebook server, which are primarily consumed\n",
    "by the `@deathbeds/jupyterlab-starters` JupyterLab extension."
   ]
  },
  {
   "cell_type": "markdown",
   "metadata": {},
   "source": [
    "### Starter List\n",
    "\n",
    "```\n",
    "GET http://localhost:8888/starters\n",
    "```\n",
    "\n",
    "Returns a [named map of starters](../schema/v2.html#definitions-group-all-starters), as\n",
    "loaded via `traitlets`. For example, the demo starters:"
   ]
  },
  {
   "cell_type": "code",
   "execution_count": 1,
   "metadata": {
    "tags": [
     "hide-input"
    ]
   },
   "outputs": [
    {
     "data": {
      "text/markdown": [
       "```json\n",
       "{\n",
       "  \"starters\": {\n",
       "    \"multi-stage-notebook\": {\n",
       "      \"description\": \"Build a directory one file at a time\",\n",
       "      \"label\": \"Multi-Stage Starter Notebook\",\n",
       "      \"src\": \"./examples/Multi-Stage Starter Notebook.ipynb\",\n",
       "      \"type\": \"notebook\"\n",
       "    },\n",
       "    \"notebook-starter\": {\n",
       "      \"description\": \"A notebook that is also a starter\",\n",
       "      \"label\": \"Starter Notebook\",\n",
       "      \"src\": \"./examples/Starter Notebook.ipynb\",\n",
       "      \"type\": \"notebook\"\n",
       "    },\n",
       "    \"whitepaper-multiple\": {\n",
       "      \"description\": \"Some reusable notebooks for proposing research\",\n",
       "      \"icon\": \"<svg xmlns='http://www.w3.org/2000/svg' viewBox='0 0 48 48'><g class='jp-icon-contrast1' fill='#ccc'><circle cx='24' cy='24' r='24'/></g></svg>\",\n",
       "      \"label\": \"Whitepaper Folder\",\n",
       "      \"src\": \"examples/whitepaper-multiple\",\n",
       "      \"type\": \"copy\"\n",
       "    },\n",
       "    \"whitepaper-named\": {\n",
       "      \"description\": \"A renamed whitepaper\",\n",
       "      \"dest\": \"{% now 'local' %} {{ dest }} Whitepaper.ipynb\",\n",
       "      \"icon\": \"<svg xmlns='http://www.w3.org/2000/svg' viewBox='0 0 100 100'><g class='jp-icon-contrast3' fill='#ccc'><rect width='100' height='100'/></g></svg>\",\n",
       "      \"label\": \"Named Whitepaper\",\n",
       "      \"schema\": {\n",
       "        \"description\": \"> A whitepaper that already has a name, based on the [Heilmeier Catechism](https://www.darpa.mil/work-with-us/heilmeier-catechism).\",\n",
       "        \"properties\": {\n",
       "          \"dest\": {\n",
       "            \"default\": \"Unimagined\",\n",
       "            \"description\": \"the _topic_ of the whitepaper\",\n",
       "            \"title\": \"## Topic\",\n",
       "            \"type\": \"string\"\n",
       "          }\n",
       "        },\n",
       "        \"required\": [\n",
       "          \"dest\"\n",
       "        ],\n",
       "        \"title\": \"# A Named whitepaper\",\n",
       "        \"type\": \"object\"\n",
       "      },\n",
       "      \"src\": \"examples/whitepaper-single.ipynb\",\n",
       "      \"type\": \"copy\",\n",
       "      \"uiSchema\": {\n",
       "        \"dest\": {\n",
       "          \"ui:autofocus\": true,\n",
       "          \"ui:help\": \"keep it short and simple: it will go in $1$ file named: `<topic> Whitepaper.ipynb`\"\n",
       "        }\n",
       "      }\n",
       "    },\n",
       "    \"whitepaper-single\": {\n",
       "      \"description\": \"A reusable notebook for proposing research\",\n",
       "      \"label\": \"Whitepaper Notebook\",\n",
       "      \"src\": \"examples/whitepaper-single.ipynb\",\n",
       "      \"type\": \"copy\"\n",
       "    }\n",
       "  },\n",
       "  \"version\": \"2\"\n",
       "}\n",
       "```"
      ],
      "text/plain": [
       "<IPython.core.display.Markdown object>"
      ]
     },
     "execution_count": 1,
     "metadata": {},
     "output_type": "execute_result"
    }
   ],
   "source": [
    "import json\n",
    "import pathlib\n",
    "\n",
    "import IPython\n",
    "\n",
    "from jupyter_starters.handlers import VERSION\n",
    "\n",
    "HERE = pathlib.Path.cwd()\n",
    "starters = json.loads((HERE.parent.parent / \"jupyter_server_config.json\").read_text())[\n",
    "    \"StarterManager\"\n",
    "][\"extra_starters\"]\n",
    "IPython.display.Markdown(\n",
    "    f\"\"\"```json\n",
    "{json.dumps({\n",
    "    \"version\": VERSION,\n",
    "    \"starters\": starters\n",
    "}, indent=2, sort_keys=True) }\n",
    "```\"\"\"\n",
    ")"
   ]
  },
  {
   "cell_type": "markdown",
   "metadata": {},
   "source": [
    "### Starter\n",
    "\n",
    "```\n",
    "POST http://localhost:8888/starters/{:starter-name}/{:api-path}\n",
    "```\n",
    "\n",
    "Returns a [start response](../schema/v2.md#definitions-group-start-response), e.g.\n",
    "\n",
    "```json\n",
    "{\n",
    "  \"body\": null,\n",
    "  \"name\": \"whitepaper-single\",\n",
    "  \"path\": \"whitepaper-single.ipynb\",\n",
    "  \"starter\": {\n",
    "    \"type\": \"copy\",\n",
    "    \"label\": \"Whitepaper Notebook\",\n",
    "    \"description\": \"A reusable notebook for proposing research\",\n",
    "    \"src\": \"examples/whitepaper-single.ipynb\"\n",
    "  },\n",
    "  \"status\": \"done\"\n",
    "}\n",
    "```"
   ]
  }
 ],
 "metadata": {
  "kernelspec": {
   "display_name": "Python 3 (ipykernel)",
   "language": "python",
   "name": "python3"
  },
  "language_info": {
   "codemirror_mode": {
    "name": "ipython",
    "version": 3
   },
   "file_extension": ".py",
   "mimetype": "text/x-python",
   "name": "python",
   "nbconvert_exporter": "python",
   "pygments_lexer": "ipython3",
   "version": "3.10.2"
  }
 },
 "nbformat": 4,
 "nbformat_minor": 4
}
