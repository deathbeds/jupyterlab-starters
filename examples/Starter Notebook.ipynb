{
 "cells": [
  {
   "cell_type": "markdown",
   "metadata": {},
   "source": [
    "# A Starter Notebook\n",
    "\n",
    "This is a notebook starter. While you are editing it, it's like a regular notebook. When\n",
    "it's used as a starter, it can write files to a directory that gets copied to a notebook\n",
    "server."
   ]
  },
  {
   "cell_type": "code",
   "execution_count": null,
   "metadata": {},
   "outputs": [],
   "source": [
    "import json\n",
    "import os\n",
    "import pathlib"
   ]
  },
  {
   "cell_type": "markdown",
   "metadata": {},
   "source": [
    "## `_jupyter_starter_.ipynb`"
   ]
  },
  {
   "cell_type": "markdown",
   "metadata": {},
   "source": [
    "When it's being run, this notebook will be copied into a temporary working directory\n",
    "with the special name `_jupyter_starter_.ipynb`. This is the only way to communicate\n",
    "with the notebook server."
   ]
  },
  {
   "cell_type": "code",
   "execution_count": null,
   "metadata": {},
   "outputs": [],
   "source": [
    "here = pathlib.Path.cwd()\n",
    "this = here / \"_jupyter_starter_.ipynb\""
   ]
  },
  {
   "cell_type": "markdown",
   "metadata": {},
   "source": [
    "## It's Alive"
   ]
  },
  {
   "cell_type": "code",
   "execution_count": null,
   "metadata": {},
   "outputs": [],
   "source": [
    "live = this.exists()\n",
    "if not live:\n",
    "    this = here / \"Starter Notebook.ipynb\""
   ]
  },
  {
   "cell_type": "markdown",
   "metadata": {},
   "source": [
    "## The JSON\n",
    "\n",
    "The notebook JSON is just about the only thing available, and is how you communicate\n",
    "with the client."
   ]
  },
  {
   "cell_type": "code",
   "execution_count": null,
   "metadata": {},
   "outputs": [],
   "source": [
    "it = json.loads(this.read_text())"
   ]
  },
  {
   "cell_type": "markdown",
   "metadata": {},
   "source": [
    "## `#/metadata/jupyter_starters`"
   ]
  },
  {
   "cell_type": "markdown",
   "metadata": {},
   "source": [
    "You can find _Things To Do_ by looking in `#/metadata/jupyter_starters/starter`.\n",
    "\n",
    "> You can also click on the _Configure Starter Notebook_ button in the notebook toolbar\n",
    "> to edit the metadata that will be initially loaded at runtime."
   ]
  },
  {
   "cell_type": "code",
   "execution_count": null,
   "metadata": {},
   "outputs": [],
   "source": [
    "meta = it[\"metadata\"][\"jupyter_starters\"]\n",
    "starter = meta[\"starter\"]\n",
    "starter"
   ]
  },
  {
   "cell_type": "markdown",
   "metadata": {},
   "source": [
    "## `body`"
   ]
  },
  {
   "cell_type": "markdown",
   "metadata": {},
   "source": [
    "When running _live_, you'll get a `body` that conforms to the last schema sent."
   ]
  },
  {
   "cell_type": "code",
   "execution_count": null,
   "metadata": {},
   "outputs": [],
   "source": [
    "body = meta.get(\"body\", {})\n",
    "body"
   ]
  },
  {
   "cell_type": "markdown",
   "metadata": {},
   "source": [
    "## Reacting to the `body`, part 1"
   ]
  },
  {
   "cell_type": "markdown",
   "metadata": {},
   "source": [
    "You can react to the body, and ask for more data by extending your `schema`."
   ]
  },
  {
   "cell_type": "code",
   "execution_count": null,
   "metadata": {},
   "outputs": [],
   "source": [
    "name = body.get(\"name\")\n",
    "if name:\n",
    "    starter[\"schema\"][\"required\"] += [\"quest\"]\n",
    "    starter[\"schema\"][\"properties\"][\"name\"][\"title\"] = f\"Hi, {name}\"\n",
    "    starter[\"schema\"][\"properties\"].update(\n",
    "        quest={\n",
    "            \"title\": \"Quest\",\n",
    "            \"description\": f\"So, {name}, what is your quest?\",\n",
    "            \"type\": \"string\",\n",
    "        }\n",
    "    )"
   ]
  },
  {
   "cell_type": "markdown",
   "metadata": {},
   "source": [
    "## Reacting to the `body`, part 2\n",
    "\n",
    "You can repeat this process as many times as you want, and the notebook will be re-run\n",
    "with any new `body` data from the user."
   ]
  },
  {
   "cell_type": "code",
   "execution_count": null,
   "metadata": {},
   "outputs": [],
   "source": [
    "quest = body.get(\"quest\")\n",
    "if quest:\n",
    "    starter[\"schema\"][\"required\"] += [\"answer\"]\n",
    "    starter[\"schema\"][\"properties\"].update(\n",
    "        answer={\n",
    "            \"title\": \"The Answer\",\n",
    "            \"description\": f\"So, {name}, what is the answer to the Universe, life, and everything?\",\n",
    "            \"minimum\": 42,\n",
    "            \"maximum\": 42,\n",
    "            \"type\": \"number\",\n",
    "        }\n",
    "    )"
   ]
  },
  {
   "cell_type": "markdown",
   "metadata": {},
   "source": [
    "## Reacting to the `body`, part $n$...\n",
    "\n",
    "When you have gathered enough information, you can do any of the following:\n",
    "\n",
    "- update the `status` to _done_\n",
    "  - this will hide the Starter panel\n",
    "- write out files\n",
    "  - these will be copied to the originally provided path\n",
    "  - do this as many times as is wanted: see the\n",
    "    [multi-stage example](./Multi-Stage%20Starter%20Notebook.ipynb)\n",
    "- say that the files should be copied\n",
    "  - this will be done automatically if provided\n",
    "- run some JupyterLab commands\n",
    "  - if no files are provided when `done`, it will at least try to open the last\n",
    "    file/folder created"
   ]
  },
  {
   "cell_type": "code",
   "execution_count": null,
   "metadata": {},
   "outputs": [],
   "source": [
    "answer = body.get(\"answer\", 41)\n",
    "\n",
    "if answer == 42:\n",
    "    new_file = this.parent / f\"good job {name}.txt\"\n",
    "    new_file.write_text(\"Lovely fjords\")\n",
    "    meta[\"status\"] = \"done\"\n",
    "    meta[\"starter\"][\"commands\"] = [\n",
    "        {\n",
    "            \"id\": \"filebrowser:open-path\",\n",
    "            \"args\": {\"path\": f\"\"\"{meta[\"path\"]}/{new_file.name}\"\"\"},\n",
    "        }\n",
    "    ]"
   ]
  },
  {
   "cell_type": "markdown",
   "metadata": {},
   "source": [
    "Finally, write out whatever might have been updated."
   ]
  },
  {
   "cell_type": "code",
   "execution_count": null,
   "metadata": {},
   "outputs": [],
   "source": [
    "if live:\n",
    "    this.write_text(json.dumps(it))"
   ]
  },
  {
   "cell_type": "markdown",
   "metadata": {},
   "source": [
    "Thanks for reading!"
   ]
  }
 ],
 "metadata": {
  "jupyter_starters": {
   "starter": {
    "description": "A notebook that is also a starter",
    "icon": "<svg version=\"1.1\" xmlns=\"http://www.w3.org/2000/svg\" xmlns:xlink=\"http://www.w3.org/1999/xlink\" x=\"0px\" y=\"0px\"\n\t viewBox=\"0 0 22 22\" style=\"enable-background:new 0 0 22 22;\">\n\t<g class=\"jp-icon-warn0 jp-icon-selectable\" fill=\"#EF6C00\">\n\t\t<path d=\"M18.7,3.3v15.4H3.3V3.3H18.7 M20.2,1.8H1.8v18.3h18.3l0,0L20.2,1.8L20.2,1.8z\"/>\n\t\t<polygon points=\"16.5,16.5 11.1,12.2 5.5,16.5 5.5,5.5 16.5,5.5 \t\"/>\n\t</g>\n</svg>",
    "label": "Starter Notebook",
    "schema": {
     "properties": {
      "name": {
       "description": "What is your name?",
       "title": "Name",
       "type": "string"
      }
     },
     "required": [
      "name"
     ]
    },
    "uiSchema": {}
   }
  },
  "kernelspec": {
   "display_name": "Python 3",
   "language": "python",
   "name": "python3"
  },
  "language_info": {
   "codemirror_mode": {
    "name": "ipython",
    "version": 3
   },
   "file_extension": ".py",
   "mimetype": "text/x-python",
   "name": "python",
   "nbconvert_exporter": "python",
   "pygments_lexer": "ipython3",
   "version": "3.7.6"
  }
 },
 "nbformat": 4,
 "nbformat_minor": 4
}
