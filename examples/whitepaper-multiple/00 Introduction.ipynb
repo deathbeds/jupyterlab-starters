{
 "cells": [
  {
   "cell_type": "markdown",
   "metadata": {},
   "source": [
    "# My Next Big Idea"
   ]
  },
  {
   "cell_type": "code",
   "execution_count": null,
   "metadata": {},
   "outputs": [],
   "source": [
    "import pathlib\n",
    "import urllib.parse\n",
    "\n",
    "import IPython\n",
    "\n",
    "# generate a little table of contents\n",
    "IPython.display.Markdown(\n",
    "    \"\".join(\n",
    "        [\n",
    "            f\"\"\"\n",
    "- [{path.name[3:-6]}](./{urllib.parse.quote(path.name)})\"\"\"\n",
    "            for path in sorted(pathlib.Path().glob(\"*.ipynb\"))\n",
    "        ]\n",
    "    )\n",
    ")"
   ]
  }
 ],
 "metadata": {
  "kernelspec": {
   "display_name": "Python 3 (ipykernel)",
   "language": "python",
   "name": "python3"
  },
  "language_info": {
   "codemirror_mode": {
    "name": "ipython",
    "version": 3
   },
   "file_extension": ".py",
   "mimetype": "text/x-python",
   "name": "python",
   "nbconvert_exporter": "python",
   "pygments_lexer": "ipython3",
   "version": "3.10.6"
  }
 },
 "nbformat": 4,
 "nbformat_minor": 4
}
