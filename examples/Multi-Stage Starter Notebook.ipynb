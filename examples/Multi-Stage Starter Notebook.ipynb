{
 "cells": [
  {
   "cell_type": "markdown",
   "metadata": {},
   "source": [
    "# Multi-Stage Notebook\n",
    "\n",
    "> _Have a look at the [Starter Notebook](./Starter%20Notebook.ipynb) for a lot of the\n",
    "> basic ideas of using a\n",
    "> [Jupyter Kernel](https://jupyter.readthedocs.io/en/latest/projects/kernels.html) as a\n",
    "> Starter_\n",
    "\n",
    "Combining `continuing` with `copy`, a notebook starter can incrementally build up a\n",
    "directory."
   ]
  },
  {
   "cell_type": "code",
   "execution_count": null,
   "metadata": {},
   "outputs": [],
   "source": [
    "import json\n",
    "import os\n",
    "import pathlib\n",
    "import random\n",
    "import re\n",
    "import sys\n",
    "\n",
    "here = pathlib.Path.cwd()\n",
    "this = here / \"_jupyter_starter_.ipynb\"\n",
    "live = this.exists()\n",
    "if not live:\n",
    "    this = here / \"Multi-Stage Starter Notebook.ipynb\"\n",
    "it = json.loads(this.read_text())"
   ]
  },
  {
   "cell_type": "code",
   "execution_count": null,
   "metadata": {},
   "outputs": [],
   "source": [
    "meta = it[\"metadata\"][\"jupyter_starters\"]\n",
    "body = meta.setdefault(\"body\", {})"
   ]
  },
  {
   "cell_type": "code",
   "execution_count": null,
   "metadata": {},
   "outputs": [],
   "source": [
    "if \"T\" not in locals():\n",
    "    T = 0"
   ]
  },
  {
   "cell_type": "code",
   "execution_count": null,
   "metadata": {},
   "outputs": [],
   "source": [
    "previous = f\"move_{T}\"\n",
    "if live and previous in body and body[previous]:\n",
    "    new_file = here / f\"\"\"file for {body[\"name\"]} {T}.txt\"\"\"\n",
    "    new_file.write_text(f\"\"\"Hi, {body[\"name\"]}! This is file number {T}.\"\"\")\n",
    "\n",
    "    meta[\"copy\"] = True\n",
    "    meta[\"starter\"][\"commands\"] = [\n",
    "        {\n",
    "            \"id\": \"filebrowser:open-path\",\n",
    "            \"args\": {\"path\": f\"\"\"{meta[\"path\"]}/{new_file.name}\"\"\"},\n",
    "        }\n",
    "    ]"
   ]
  },
  {
   "cell_type": "code",
   "execution_count": null,
   "metadata": {},
   "outputs": [],
   "source": [
    "T += 1\n",
    "move = f\"move_{T}\"\n",
    "meta[\"starter\"][\"schema\"][\"properties\"][move] = {\n",
    "    \"title\": f\"\"\"Create `file for {body[\"name\"]} {T}.txt`?\"\"\",\n",
    "    \"description\": \"I'll just keep creating files until you say stop\",\n",
    "    \"type\": \"boolean\",\n",
    "    \"default\": True,\n",
    "}"
   ]
  },
  {
   "cell_type": "code",
   "execution_count": null,
   "metadata": {},
   "outputs": [],
   "source": [
    "meta[\"starter\"][\"schema\"][\"properties\"][\"done\"] = {\n",
    "    \"title\": f\"\"\"I am done\"\"\",\n",
    "    \"description\": \"Make it stop!\",\n",
    "    \"type\": \"boolean\",\n",
    "    \"default\": False,\n",
    "}"
   ]
  },
  {
   "cell_type": "code",
   "execution_count": null,
   "metadata": {},
   "outputs": [],
   "source": [
    "if body.get(\"done\"):\n",
    "    meta[\"status\"] = \"done\"\n",
    "else:\n",
    "    meta[\"status\"] = \"continuing\""
   ]
  },
  {
   "cell_type": "markdown",
   "metadata": {},
   "source": [
    "Write out files."
   ]
  },
  {
   "cell_type": "code",
   "execution_count": null,
   "metadata": {},
   "outputs": [],
   "source": [
    "if live:\n",
    "    this.write_text(json.dumps(it))"
   ]
  }
 ],
 "metadata": {
  "jupyter_starters": {
   "starter": {
    "commands": [],
    "description": "Build a directory one file at a time",
    "icon": "<svg xmlns=\"http://www.w3.org/2000/svg\" width=\"24\" height=\"24\" viewBox=\"0 0 24 24\">\n<path d=\"M0 0h24v24H0z\" fill=\"none\"/>\n<g class=\"jp-icon-contrast0\" fill=\"#8e24aa\">\n    <path d=\"M20 2H4c-1.1 0-1.99.9-1.99 2L2 22l4-4h14c1.1 0 2-.9 2-2V4c0-1.1-.9-2-2-2zM8 14H6v-2h2v2zm0-3H6V9h2v2zm0-3H6V6h2v2zm7 6h-5v-2h5v2zm3-3h-8V9h8v2zm0-3h-8V6h8v2z\"/>\n</g>\n</svg>\n",
    "label": "Multi-Stage Notebook",
    "schema": {
     "properties": {
      "name": {
       "description": "What is your name?",
       "title": "Name",
       "type": "string"
      }
     },
     "required": [
      "name"
     ]
    },
    "uiSchema": {}
   }
  },
  "kernelspec": {
   "display_name": "Python 3",
   "language": "python",
   "name": "python3"
  },
  "language_info": {
   "codemirror_mode": {
    "name": "ipython",
    "version": 3
   },
   "file_extension": ".py",
   "mimetype": "text/x-python",
   "name": "python",
   "nbconvert_exporter": "python",
   "pygments_lexer": "ipython3",
   "version": "3.7.6"
  }
 },
 "nbformat": 4,
 "nbformat_minor": 4
}
